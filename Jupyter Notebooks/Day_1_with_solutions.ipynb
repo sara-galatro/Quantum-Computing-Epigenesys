{
 "cells": [
  {
   "cell_type": "markdown",
   "id": "d9bef481",
   "metadata": {},
   "source": [
    "# Corso di Quantum Computing - Giorno 1: Introduzione a Qiskit\n",
    "\n",
    "Questo notebook Jupyter serve per introdurre Qiskit e farvi sperimentare con i primi concetti visti.\n",
    "\n",
    "Corso per Epigenesys s.r.l. <br>\n",
    "Docenti: Sara Galatro e Lorenzo Gasparini <br>\n",
    "Supervisore: Prof. Marco Pedicini"
   ]
  },
  {
   "cell_type": "code",
   "execution_count": 1,
   "id": "d4749ad4",
   "metadata": {
    "tags": []
   },
   "outputs": [],
   "source": [
    "# required imports:\n",
    "from qiskit.visualization import array_to_latex\n",
    "from qiskit.quantum_info import Statevector, random_statevector\n",
    "from qiskit.quantum_info.operators import Operator, Pauli\n",
    "from qiskit.circuit.library import HGate, CXGate\n",
    "import numpy as np"
   ]
  },
  {
   "cell_type": "markdown",
   "id": "742da035",
   "metadata": {},
   "source": [
    "## Vettori e notazione di Dirac"
   ]
  },
  {
   "cell_type": "markdown",
   "id": "808ec86f",
   "metadata": {},
   "source": [
    "A lezione, abbiamo visto che gli stati quantistici possono essere rappresentati usando la *notazione di Dirac*, ossia usando i $bra$ e i $ket$. In python, gli stati saranno rappresentati come dei vettori riga o colonna.\n",
    "\n",
    "Ad esempio, possiamo rappresentare $|0\\rangle$ usando una lista di liste e visualizzarlo tramite il pacchetto Qiskit dedicato:"
   ]
  },
  {
   "cell_type": "code",
   "execution_count": 2,
   "id": "b93989c8",
   "metadata": {
    "tags": []
   },
   "outputs": [
    {
     "data": {
      "text/latex": [
       "$$\n",
       "\n",
       "\\begin{bmatrix}\n",
       "1  \\\\\n",
       " 0  \\\\\n",
       " \\end{bmatrix}\n",
       "$$"
      ],
      "text/plain": [
       "<IPython.core.display.Latex object>"
      ]
     },
     "execution_count": 2,
     "metadata": {},
     "output_type": "execute_result"
    }
   ],
   "source": [
    "ket0 = [[1],[0]]\n",
    "\n",
    "# visualization\n",
    "array_to_latex(ket0)"
   ]
  },
  {
   "cell_type": "markdown",
   "id": "a61be47b",
   "metadata": {},
   "source": [
    "Analogamente, per $\\langle 0|$:"
   ]
  },
  {
   "cell_type": "code",
   "execution_count": 3,
   "id": "25f9ff7e",
   "metadata": {
    "tags": []
   },
   "outputs": [
    {
     "data": {
      "text/latex": [
       "$$\n",
       "\n",
       "\\begin{bmatrix}\n",
       "1 & 0  \\\\\n",
       " \\end{bmatrix}\n",
       "$$"
      ],
      "text/plain": [
       "<IPython.core.display.Latex object>"
      ]
     },
     "execution_count": 3,
     "metadata": {},
     "output_type": "execute_result"
    }
   ],
   "source": [
    "bra0 = [1,0]\n",
    "array_to_latex(bra0)"
   ]
  },
  {
   "cell_type": "markdown",
   "id": "2cc359db",
   "metadata": {},
   "source": [
    "**Ex 1 - Create $|1\\rangle$ e $\\langle 1|$ usando le liste**"
   ]
  },
  {
   "cell_type": "code",
   "execution_count": 4,
   "id": "59a7be22",
   "metadata": {},
   "outputs": [],
   "source": [
    "# add your code\n",
    "ket1 = [[0],[1]]\n",
    "bra1 = [0,1]"
   ]
  },
  {
   "cell_type": "code",
   "execution_count": 5,
   "id": "3172fc01",
   "metadata": {},
   "outputs": [
    {
     "data": {
      "text/latex": [
       "$$\n",
       "\n",
       "\\begin{bmatrix}\n",
       "0 & 1  \\\\\n",
       " \\end{bmatrix}\n",
       "$$"
      ],
      "text/plain": [
       "<IPython.core.display.Latex object>"
      ]
     },
     "execution_count": 5,
     "metadata": {},
     "output_type": "execute_result"
    }
   ],
   "source": [
    "array_to_latex(bra1)"
   ]
  },
  {
   "cell_type": "code",
   "execution_count": 6,
   "id": "32eee63d",
   "metadata": {},
   "outputs": [
    {
     "data": {
      "text/latex": [
       "$$\n",
       "\n",
       "\\begin{bmatrix}\n",
       "0  \\\\\n",
       " 1  \\\\\n",
       " \\end{bmatrix}\n",
       "$$"
      ],
      "text/plain": [
       "<IPython.core.display.Latex object>"
      ]
     },
     "execution_count": 6,
     "metadata": {},
     "output_type": "execute_result"
    }
   ],
   "source": [
    "array_to_latex(ket1)"
   ]
  },
  {
   "cell_type": "markdown",
   "id": "3faad35b",
   "metadata": {},
   "source": [
    "## Qiskit `Operator` Class\n",
    "\n",
    "La classe `Operator` è usata per rappresentare gli operatori matriciali che agiscono su un sistema quantistico. Questa classe ha numerose funzioni già definite che permettono di costruire comodamente operatori compositi, sia tramite prodotto tensoriale sia tramite composizione.\n",
    "\n",
    "Possiamo inizializzare un `Operator` Qiskit usando una lista python, come quelle che abbiamo creato prima.\n",
    "\n",
    "Link di riferimento: https://qiskit.org/documentation/stubs/qiskit.quantum_info.Operator.html#qiskit.quantum_info.Operator"
   ]
  },
  {
   "cell_type": "code",
   "execution_count": 7,
   "id": "180a544f",
   "metadata": {},
   "outputs": [
    {
     "data": {
      "text/plain": [
       "Operator([1.+0.j, 0.+0.j],\n",
       "         input_dims=(), output_dims=(2,))"
      ]
     },
     "execution_count": 7,
     "metadata": {},
     "output_type": "execute_result"
    }
   ],
   "source": [
    "op_bra0 = Operator(bra0)\n",
    "op_bra0"
   ]
  },
  {
   "cell_type": "markdown",
   "id": "dc578df9",
   "metadata": {},
   "source": [
    "La classe `Operator` è utile per calcolare, ad esempio, il prodotto tensoriale di due operatori, grazie al metodo `tensor()`."
   ]
  },
  {
   "cell_type": "code",
   "execution_count": 8,
   "id": "7aed9441",
   "metadata": {},
   "outputs": [
    {
     "data": {
      "text/plain": [
       "Operator([[1.+0.j, 0.+0.j],\n",
       "          [0.+0.j, 0.+0.j]],\n",
       "         input_dims=(), output_dims=(2, 2))"
      ]
     },
     "execution_count": 8,
     "metadata": {},
     "output_type": "execute_result"
    }
   ],
   "source": [
    "op_ket0 = Operator(ket0)\n",
    "op_bra0.tensor(op_ket0)"
   ]
  },
  {
   "cell_type": "markdown",
   "id": "208cf2b6",
   "metadata": {},
   "source": [
    "## Prodotto interno ed esterno\n",
    "\n",
    "A lezione abbiamo visto i prodotti interno ed esterno: esploriamo dunque questi concetti usando, rispettivamente, le funzioni numpy `.dot()` e `.outer()`.\n",
    "\n",
    "Ad esempio, possiamo trovare il prodotto interno $\\langle0|0\\rangle$ come segue:"
   ]
  },
  {
   "cell_type": "code",
   "execution_count": 9,
   "id": "cf3cb816",
   "metadata": {},
   "outputs": [
    {
     "data": {
      "text/latex": [
       "$$\n",
       "\n",
       "\\begin{bmatrix}\n",
       "1  \\\\\n",
       " \\end{bmatrix}\n",
       "$$"
      ],
      "text/plain": [
       "<IPython.core.display.Latex object>"
      ]
     },
     "execution_count": 9,
     "metadata": {},
     "output_type": "execute_result"
    }
   ],
   "source": [
    "braket = np.dot(op_bra0,op_ket0)\n",
    "array_to_latex(braket)"
   ]
  },
  {
   "cell_type": "markdown",
   "id": "e5d604d7",
   "metadata": {},
   "source": [
    "e il prodotto esterno $|0\\rangle\\langle0|$ come:"
   ]
  },
  {
   "cell_type": "code",
   "execution_count": 10,
   "id": "73232e3d",
   "metadata": {},
   "outputs": [
    {
     "data": {
      "text/latex": [
       "$$\n",
       "\n",
       "\\begin{bmatrix}\n",
       "1 & 0  \\\\\n",
       " 0 & 0  \\\\\n",
       " \\end{bmatrix}\n",
       "$$"
      ],
      "text/plain": [
       "<IPython.core.display.Latex object>"
      ]
     },
     "execution_count": 10,
     "metadata": {},
     "output_type": "execute_result"
    }
   ],
   "source": [
    "ketbra = np.outer(ket0,bra0)\n",
    "array_to_latex(ketbra)"
   ]
  },
  {
   "cell_type": "markdown",
   "id": "cdca2a30",
   "metadata": {},
   "source": [
    "*Nota*: le funzioni numpy appena usate sono compatibili anche con la classe Qiksit `Operator`, oltre che con delle regolari liste python."
   ]
  },
  {
   "cell_type": "markdown",
   "id": "2dc9ed02",
   "metadata": {},
   "source": [
    "**Ex 2 - Usate numpy per trovare il risultato dei seguenti prodotti: $\\langle 1|0 \\rangle, \\langle 0|1\\rangle,\\langle 1|1\\rangle, |1\\rangle \\langle 0|, |0\\rangle \\langle 1|, |1\\rangle \\langle1|$**"
   ]
  },
  {
   "cell_type": "code",
   "execution_count": 11,
   "id": "72e1bb34",
   "metadata": {},
   "outputs": [],
   "source": [
    "# add your code\n",
    "bra1ket0 = np.dot(bra1,ket0)\n",
    "bra0ket1 = np.dot(bra0,ket1)\n",
    "bra1ket1 = np.dot(bra1,ket1)\n",
    "\n",
    "ket1bra0 = np.outer(ket1,bra0)\n",
    "ket0bra1 = np.outer(ket0,bra1)\n",
    "ket1bra1 = np.outer(ket1,bra1)"
   ]
  },
  {
   "cell_type": "code",
   "execution_count": 12,
   "id": "37b9cf70",
   "metadata": {},
   "outputs": [
    {
     "name": "stdout",
     "output_type": "stream",
     "text": [
      "[0] [0] [1]\n",
      "\n",
      "[[0 0]\n",
      " [1 0]] \n",
      "\n",
      " [[0 1]\n",
      " [0 0]] \n",
      "\n",
      " [[0 0]\n",
      " [0 1]]\n"
     ]
    }
   ],
   "source": [
    "print(bra1ket0, bra0ket1, bra1ket1)\n",
    "print()\n",
    "print(ket1bra0, \"\\n\\n\", ket0bra1, \"\\n\\n\", ket1bra1)"
   ]
  },
  {
   "cell_type": "markdown",
   "id": "7c03e06d",
   "metadata": {},
   "source": [
    "**Ex 3 - Quali dei seguenti stati sono tra loro ortogonali?** </p>\n",
    "    <p>a) $\\vert 0\\rangle$ e $\\vert 1\\rangle$ </p>\n",
    "    <p>b) $\\vert 0\\rangle$ e $\\vert 0\\rangle$ </p>\n",
    "    <p>c) $\\vert 1\\rangle$ e $\\vert 1\\rangle$ </p>\n"
   ]
  },
  {
   "cell_type": "code",
   "execution_count": 13,
   "id": "6e061263",
   "metadata": {},
   "outputs": [],
   "source": [
    "# lasciare nella lista solo gli stati ortogonali\n",
    "answer = ['a'] "
   ]
  },
  {
   "cell_type": "markdown",
   "id": "e695b37a",
   "metadata": {},
   "source": [
    "## Operazioni deterministiche\n",
    "\n",
    "Come abbiamo visto durante la parte teorica, ci sono $4$ operazioni deterministiche che possono agire su un singolo bit:<br>\n",
    "$f_0$ = costante-$0$<br>\n",
    "$id$ = identità <br>\n",
    "$\\mathbf{NOT}$ = bit flip  <br>\n",
    "$f_1 =$ costante-$1$  <br>\n",
    "\n",
    "$$\n",
    "\\begin{array}{c|c}\n",
    "  a & f_0(a)\\\\\n",
    "  \\hline\n",
    "  0 & 0\\\\\n",
    "  1 & 0\n",
    "\\end{array}\n",
    "\\qquad\n",
    "\\begin{array}{c|c}\n",
    "  a & id(a)\\\\\n",
    "  \\hline\n",
    "  0 & 0\\\\\n",
    "  1 & 1\n",
    "\\end{array}\n",
    "\\qquad\n",
    "\\begin{array}{c|c}\n",
    "  a & \\mathbf{NOT}(a)\\\\\n",
    "  \\hline\n",
    "  0 & 1\\\\\n",
    "  1 & 0\n",
    "\\end{array}\n",
    "\\qquad\n",
    "\\begin{array}{c|c}\n",
    "  a & f_1(a)\\\\\n",
    "  \\hline\n",
    "  0 & 1\\\\\n",
    "  1 & 1\n",
    "\\end{array}\n",
    "$$\n",
    "\n",
    "Possiamo creare degli Operatori Qiskit di queste operazioni passando le relative rappresentazioni matriciali come argomenti alla classe `Operator`. \n",
    "\n",
    "Ad esempio, per la funzione costante a $0$, l'operatore associato è il seguente:"
   ]
  },
  {
   "cell_type": "code",
   "execution_count": 14,
   "id": "8edc4262",
   "metadata": {},
   "outputs": [
    {
     "data": {
      "text/latex": [
       "$$\n",
       "\n",
       "\\begin{bmatrix}\n",
       "1 & 1  \\\\\n",
       " 0 & 0  \\\\\n",
       " \\end{bmatrix}\n",
       "$$"
      ],
      "text/plain": [
       "<IPython.core.display.Latex object>"
      ]
     },
     "execution_count": 14,
     "metadata": {},
     "output_type": "execute_result"
    }
   ],
   "source": [
    "M_0 = Operator([[1,1],[0,0]])\n",
    "array_to_latex(M_0)"
   ]
  },
  {
   "cell_type": "markdown",
   "id": "2792a781",
   "metadata": {},
   "source": [
    "e analogamente per l'identità:"
   ]
  },
  {
   "cell_type": "code",
   "execution_count": 15,
   "id": "9cc2ff6c",
   "metadata": {},
   "outputs": [
    {
     "data": {
      "text/latex": [
       "$$\n",
       "\n",
       "\\begin{bmatrix}\n",
       "1 & 0  \\\\\n",
       " 0 & 1  \\\\\n",
       " \\end{bmatrix}\n",
       "$$"
      ],
      "text/plain": [
       "<IPython.core.display.Latex object>"
      ]
     },
     "execution_count": 15,
     "metadata": {},
     "output_type": "execute_result"
    }
   ],
   "source": [
    "M_id = Operator([[1,0],[0,1]])\n",
    "array_to_latex(M_id)"
   ]
  },
  {
   "cell_type": "markdown",
   "id": "765e8f0e",
   "metadata": {},
   "source": [
    "Possiamo anche usare le funzioni presenti in python per la moltiplicazione tra matrici e/o vettori (e.g. `@`, `.dot`, or `.matmul`) per applicare le operazioni agli stati o concatenare più operazioni.\n",
    "\n",
    "Verfichiamo, ad esempio, che\n",
    "$$\n",
    " \\mathbf{M_{0}} |1\\rangle = |0\\rangle\n",
    "$$"
   ]
  },
  {
   "cell_type": "code",
   "execution_count": 16,
   "id": "a283a8bd",
   "metadata": {},
   "outputs": [
    {
     "data": {
      "text/latex": [
       "$$\n",
       "\n",
       "\\begin{bmatrix}\n",
       "1  \\\\\n",
       " 0  \\\\\n",
       " \\end{bmatrix}\n",
       "$$"
      ],
      "text/plain": [
       "<IPython.core.display.Latex object>"
      ]
     },
     "execution_count": 16,
     "metadata": {},
     "output_type": "execute_result"
    }
   ],
   "source": [
    "array_to_latex(M_0@ket1)"
   ]
  },
  {
   "cell_type": "markdown",
   "id": "f044b3f6",
   "metadata": {},
   "source": [
    "**Ex 4 - create gli operatori Qiskit per $\\mathbf{NOT}$ e $f_1$**"
   ]
  },
  {
   "cell_type": "code",
   "execution_count": 17,
   "id": "31927dfa",
   "metadata": {},
   "outputs": [],
   "source": [
    "# add your code\n",
    "M_NOT = Operator([[0,1],[1,0]])\n",
    "\n",
    "M_1 = Operator([[0,0],[1,1]])"
   ]
  },
  {
   "cell_type": "code",
   "execution_count": 18,
   "id": "eeb076af",
   "metadata": {},
   "outputs": [
    {
     "data": {
      "text/latex": [
       "$$\n",
       "\n",
       "\\begin{bmatrix}\n",
       "0 & 1  \\\\\n",
       " 1 & 0  \\\\\n",
       " \\end{bmatrix}\n",
       "$$"
      ],
      "text/plain": [
       "<IPython.core.display.Latex object>"
      ]
     },
     "execution_count": 18,
     "metadata": {},
     "output_type": "execute_result"
    }
   ],
   "source": [
    "array_to_latex(M_NOT)"
   ]
  },
  {
   "cell_type": "code",
   "execution_count": 19,
   "id": "205b84c6",
   "metadata": {},
   "outputs": [
    {
     "data": {
      "text/latex": [
       "$$\n",
       "\n",
       "\\begin{bmatrix}\n",
       "0 & 0  \\\\\n",
       " 1 & 1  \\\\\n",
       " \\end{bmatrix}\n",
       "$$"
      ],
      "text/plain": [
       "<IPython.core.display.Latex object>"
      ]
     },
     "execution_count": 19,
     "metadata": {},
     "output_type": "execute_result"
    }
   ],
   "source": [
    "array_to_latex(M_1)"
   ]
  },
  {
   "cell_type": "markdown",
   "id": "d611468d",
   "metadata": {},
   "source": [
    "## Operazioni Probabilistiche\n",
    "\n",
    "Un *Controlled-NOT* (o $\\mathbf{CNOT}$) è un'operazione probabilistica che è possibile applicare su $2$ bit.\n",
    "\n",
    "Applicare un $\\mathbf{CNOT}$ su uno stato $(X,Y)$ significa applicare un $\\mathbf{NOT}$ su $Y$ quando $X=1$ e non fare nulla quando $X=0$. Per questo motivo, $X$ è detto *bit di controllo* e $Y$ è detto *bit target*.\n",
    "\n",
    "Possiamo implementare un $\\mathbf{CNOT}$ gate usando l'omonima classe dalla libreria dei circuiti di Qiskit (e analogamente per molti altri gate).\n",
    "\n",
    "Link di riferimento: https://qiskit.org/documentation/apidoc/circuit_library.html"
   ]
  },
  {
   "cell_type": "code",
   "execution_count": 20,
   "id": "d6aec987",
   "metadata": {},
   "outputs": [
    {
     "data": {
      "text/latex": [
       "$$\n",
       "\n",
       "\\begin{bmatrix}\n",
       "1 & 0 & 0 & 0  \\\\\n",
       " 0 & 0 & 0 & 1  \\\\\n",
       " 0 & 0 & 1 & 0  \\\\\n",
       " 0 & 1 & 0 & 0  \\\\\n",
       " \\end{bmatrix}\n",
       "$$"
      ],
      "text/plain": [
       "<IPython.core.display.Latex object>"
      ]
     },
     "execution_count": 20,
     "metadata": {},
     "output_type": "execute_result"
    }
   ],
   "source": [
    "cnot = CXGate()\n",
    "array_to_latex(cnot)"
   ]
  },
  {
   "cell_type": "markdown",
   "id": "49ee11bb",
   "metadata": {},
   "source": [
    "Nota: questa matrice è diversa da quella vista durante la parte teorica perché `CXGate()` prende come controllo il bit di destra, invece che quello di sinistra."
   ]
  },
  {
   "cell_type": "markdown",
   "id": "c740ca92",
   "metadata": {},
   "source": [
    "## Qiskit `Statevector` Class\n",
    "\n",
    "Oltre alle semplici liste, esiste un altro modo di rappresentare gli stati quantistici è tramite la classe Qiskit `Statevector`. Questa classe può prendere vari formati in input (e.g. lista, array numpy, un altro state vector) per costruire un nuovo state vector.\n",
    "\n",
    "Prendiamo dunque l'oggetto `bra0` creato a inizio del notebook e convertiamolo in uno `Statevector`.\n",
    "\n",
    "Link di riferimento: https://qiskit.org/documentation/stubs/qiskit.quantum_info.Statevector.html"
   ]
  },
  {
   "cell_type": "code",
   "execution_count": 21,
   "id": "98474984",
   "metadata": {},
   "outputs": [
    {
     "name": "stdout",
     "output_type": "stream",
     "text": [
      "Statevector([1.+0.j, 0.+0.j],\n",
      "            dims=(2,))\n"
     ]
    }
   ],
   "source": [
    "sv_bra0 = Statevector(bra0)\n",
    "sv_bra0"
   ]
  },
  {
   "cell_type": "markdown",
   "id": "56ca6f92",
   "metadata": {},
   "source": [
    "La classe `Statevector` ha una propria funzione `draw()`:"
   ]
  },
  {
   "cell_type": "code",
   "execution_count": 22,
   "id": "247620ba",
   "metadata": {},
   "outputs": [
    {
     "data": {
      "text/latex": [
       "$$ |0\\rangle$$"
      ],
      "text/plain": [
       "<IPython.core.display.Latex object>"
      ]
     },
     "execution_count": 22,
     "metadata": {},
     "output_type": "execute_result"
    }
   ],
   "source": [
    "sv_bra0.draw('latex')"
   ]
  },
  {
   "cell_type": "markdown",
   "id": "d0658c78",
   "metadata": {},
   "source": [
    "Possiamo anche definire uno `Statevector` passandogli in input una lista con le ampiezze:"
   ]
  },
  {
   "cell_type": "code",
   "execution_count": 23,
   "id": "5c67cec2",
   "metadata": {},
   "outputs": [
    {
     "data": {
      "text/latex": [
       "$$\\frac{1}{2} |00\\rangle+\\frac{3}{4} |01\\rangle+\\frac{4}{5} |10\\rangle+\\frac{3}{4} |11\\rangle$$"
      ],
      "text/plain": [
       "<IPython.core.display.Latex object>"
      ]
     },
     "execution_count": 23,
     "metadata": {},
     "output_type": "execute_result"
    }
   ],
   "source": [
    "sv_eq = Statevector([1/2, 3/4, 4/5, 6/8])\n",
    "sv_eq.draw('latex')"
   ]
  },
  {
   "cell_type": "markdown",
   "id": "d2010fd2",
   "metadata": {},
   "source": [
    "Osserviamo però che il vettore appena definito non è uno stato quantistico valido, dato che non è normalizzato. Possiamo verificare la validità del nostro stato con la funzione `is_valid()`:"
   ]
  },
  {
   "cell_type": "code",
   "execution_count": 24,
   "id": "66374400",
   "metadata": {},
   "outputs": [
    {
     "data": {
      "text/plain": [
       "False"
      ]
     },
     "execution_count": 24,
     "metadata": {},
     "output_type": "execute_result"
    }
   ],
   "source": [
    "sv_eq.is_valid()"
   ]
  },
  {
   "cell_type": "markdown",
   "id": "c83310b8",
   "metadata": {},
   "source": [
    "**Ex 5 - Create uno statevector valido usando la classe omonima**"
   ]
  },
  {
   "cell_type": "code",
   "execution_count": 25,
   "id": "b5f45cbe",
   "metadata": {},
   "outputs": [
    {
     "data": {
      "text/plain": [
       "True"
      ]
     },
     "execution_count": 25,
     "metadata": {},
     "output_type": "execute_result"
    }
   ],
   "source": [
    "# add your code\n",
    "sv_valid = Statevector([0, 0, np.sqrt(2/3), np.sqrt(1/3)])\n",
    "sv_valid.is_valid()"
   ]
  },
  {
   "cell_type": "markdown",
   "id": "bd0665bc",
   "metadata": {},
   "source": [
    "## Operazioni unitarie\n",
    "\n",
    "Un operatore è unitario se $ UU^{\\dagger} = \\mathbb{I} = U^{\\dagger} U$. \n",
    "\n",
    "Possiamo verificare se un operatore è unitario usando la funzione Qiskit `is_unitary()`:"
   ]
  },
  {
   "cell_type": "code",
   "execution_count": 26,
   "id": "83e80fd5",
   "metadata": {},
   "outputs": [
    {
     "data": {
      "text/plain": [
       "True"
      ]
     },
     "execution_count": 26,
     "metadata": {},
     "output_type": "execute_result"
    }
   ],
   "source": [
    "M_NOT.is_unitary()"
   ]
  },
  {
   "cell_type": "markdown",
   "id": "ef61f742",
   "metadata": {},
   "source": [
    "Con operatori di dimensioni contenute e con entrate semplici, come $\\mathbf{M_{NOT}}$, è facile verificare che siano unitari anche a mano, ma con operatori più complessi questa funzione risulta molto utile:"
   ]
  },
  {
   "cell_type": "code",
   "execution_count": 27,
   "id": "90fa7840",
   "metadata": {},
   "outputs": [
    {
     "data": {
      "text/plain": [
       "True"
      ]
     },
     "execution_count": 27,
     "metadata": {},
     "output_type": "execute_result"
    }
   ],
   "source": [
    "random = Operator(np.array([[ 0.50778085-0.44607116j, -0.1523741 +0.14128434j,  0.44607116+0.50778085j,\n",
    "  -0.14128434-0.1523741j ],\n",
    " [ 0.16855994+0.12151822j,  0.55868196+0.38038841j, -0.12151822+0.16855994j,\n",
    "  -0.38038841+0.55868196j],\n",
    " [ 0.50778085-0.44607116j, -0.1523741 +0.14128434j, -0.44607116-0.50778085j,\n",
    "   0.14128434+0.1523741j ],\n",
    " [ 0.16855994+0.12151822j,  0.55868196+0.38038841j,  0.12151822-0.16855994j,\n",
    "   0.38038841-0.55868196j]]))\n",
    "\n",
    "random.is_unitary()"
   ]
  },
  {
   "cell_type": "markdown",
   "id": "e6778ed6",
   "metadata": {},
   "source": [
    "**Ex 6 - create un operatore, usando la classe `Operator`, che non sia unitario.**"
   ]
  },
  {
   "cell_type": "code",
   "execution_count": 28,
   "id": "c43f5bbf",
   "metadata": {},
   "outputs": [
    {
     "data": {
      "text/plain": [
       "False"
      ]
     },
     "execution_count": 28,
     "metadata": {},
     "output_type": "execute_result"
    }
   ],
   "source": [
    "# add your code\n",
    "non_unitary_op = Operator(np.array( [[0, 1],[1,1]] ))\n",
    "non_unitary_op.is_unitary()"
   ]
  },
  {
   "cell_type": "markdown",
   "id": "220179f8",
   "metadata": {},
   "source": [
    "### Operazioni unitarie sui qubit - operatori di Pauli\n",
    "\n",
    "Alcuni degli operatori più utilizzati nel quantum computing sono i cosiddetti operatori di Pauli. La classe Qiskit `Pauli` rende facile interagire con tali operatori:"
   ]
  },
  {
   "cell_type": "markdown",
   "id": "26c5fec2",
   "metadata": {},
   "source": [
    "Ad esempio, Pauli X ($\\sigma_x$), che corrisponde al bit flip:"
   ]
  },
  {
   "cell_type": "code",
   "execution_count": 29,
   "id": "290462f3",
   "metadata": {},
   "outputs": [
    {
     "data": {
      "text/latex": [
       "$$\n",
       "\n",
       "\\begin{bmatrix}\n",
       "0 & 1  \\\\\n",
       " 1 & 0  \\\\\n",
       " \\end{bmatrix}\n",
       "$$"
      ],
      "text/plain": [
       "<IPython.core.display.Latex object>"
      ]
     },
     "execution_count": 29,
     "metadata": {},
     "output_type": "execute_result"
    }
   ],
   "source": [
    "pauli_x = Pauli('X')\n",
    "array_to_latex(pauli_x)"
   ]
  },
  {
   "cell_type": "markdown",
   "id": "ff2d5d30",
   "metadata": {},
   "source": [
    "Pauli Y ($\\sigma_y$):"
   ]
  },
  {
   "cell_type": "code",
   "execution_count": 30,
   "id": "21b32f55",
   "metadata": {},
   "outputs": [
    {
     "data": {
      "text/latex": [
       "$$\n",
       "\n",
       "\\begin{bmatrix}\n",
       "0 & - i  \\\\\n",
       " i & 0  \\\\\n",
       " \\end{bmatrix}\n",
       "$$"
      ],
      "text/plain": [
       "<IPython.core.display.Latex object>"
      ]
     },
     "execution_count": 30,
     "metadata": {},
     "output_type": "execute_result"
    }
   ],
   "source": [
    "pauli_y = Pauli('Y')\n",
    "array_to_latex(pauli_y)"
   ]
  },
  {
   "cell_type": "markdown",
   "id": "c9850043",
   "metadata": {},
   "source": [
    "Pauli Z ($\\sigma_z$), il ribaltamento di fase:"
   ]
  },
  {
   "cell_type": "code",
   "execution_count": 31,
   "id": "9df1dff2",
   "metadata": {},
   "outputs": [
    {
     "data": {
      "text/latex": [
       "$$\n",
       "\n",
       "\\begin{bmatrix}\n",
       "1 & 0  \\\\\n",
       " 0 & -1  \\\\\n",
       " \\end{bmatrix}\n",
       "$$"
      ],
      "text/plain": [
       "<IPython.core.display.Latex object>"
      ]
     },
     "execution_count": 31,
     "metadata": {},
     "output_type": "execute_result"
    }
   ],
   "source": [
    "pauli_z = Pauli('Z')\n",
    "array_to_latex(pauli_z)"
   ]
  },
  {
   "cell_type": "code",
   "execution_count": 32,
   "id": "8518e1c5",
   "metadata": {},
   "outputs": [
    {
     "data": {
      "text/plain": [
       "Pauli('X')"
      ]
     },
     "execution_count": 32,
     "metadata": {},
     "output_type": "execute_result"
    }
   ],
   "source": [
    "pauli_x"
   ]
  },
  {
   "cell_type": "markdown",
   "id": "bdfa41f0",
   "metadata": {},
   "source": [
    "Possiamo usare la classe `Operator` con la classe `Pauli`:"
   ]
  },
  {
   "cell_type": "code",
   "execution_count": 33,
   "id": "71eb657f",
   "metadata": {},
   "outputs": [
    {
     "data": {
      "text/latex": [
       "$$\n",
       "\n",
       "\\begin{bmatrix}\n",
       "0 & 1  \\\\\n",
       " 1 & 0  \\\\\n",
       " \\end{bmatrix}\n",
       "$$"
      ],
      "text/plain": [
       "<IPython.core.display.Latex object>"
      ]
     },
     "execution_count": 33,
     "metadata": {},
     "output_type": "execute_result"
    }
   ],
   "source": [
    "op_x = Operator(pauli_x)\n",
    "array_to_latex(op_x)"
   ]
  },
  {
   "cell_type": "code",
   "execution_count": 34,
   "id": "bce2f586",
   "metadata": {},
   "outputs": [
    {
     "data": {
      "text/plain": [
       "Operator([[0.+0.j, 1.+0.j],\n",
       "          [1.+0.j, 0.+0.j]],\n",
       "         input_dims=(2,), output_dims=(2,))"
      ]
     },
     "execution_count": 34,
     "metadata": {},
     "output_type": "execute_result"
    }
   ],
   "source": [
    "op_x"
   ]
  },
  {
   "cell_type": "markdown",
   "id": "22a1dc55",
   "metadata": {},
   "source": [
    "Usiamo ora la classe `Operator` e numpy per trovare il risultato di $\\sigma_x |0\\rangle$:"
   ]
  },
  {
   "cell_type": "code",
   "execution_count": 35,
   "id": "a3b46f65",
   "metadata": {},
   "outputs": [
    {
     "data": {
      "text/latex": [
       "$$\n",
       "\n",
       "\\begin{bmatrix}\n",
       "0  \\\\\n",
       " 1  \\\\\n",
       " \\end{bmatrix}\n",
       "$$"
      ],
      "text/plain": [
       "<IPython.core.display.Latex object>"
      ]
     },
     "execution_count": 35,
     "metadata": {},
     "output_type": "execute_result"
    }
   ],
   "source": [
    "op_new = np.dot(op_x,ket0)\n",
    "array_to_latex(op_new)"
   ]
  },
  {
   "cell_type": "markdown",
   "id": "0434735a",
   "metadata": {},
   "source": [
    "**Ex 7 - Applicate l'operatore Pauli-Z a $|1\\rangle$**"
   ]
  },
  {
   "cell_type": "code",
   "execution_count": 36,
   "id": "11ea5267",
   "metadata": {},
   "outputs": [],
   "source": [
    "# add your code\n",
    "op_z = Operator(pauli_z)\n",
    "result = np.dot(op_z, ket1)"
   ]
  },
  {
   "cell_type": "code",
   "execution_count": 37,
   "id": "487f2925",
   "metadata": {},
   "outputs": [
    {
     "data": {
      "text/latex": [
       "$$\n",
       "\n",
       "\\begin{bmatrix}\n",
       "0  \\\\\n",
       " -1  \\\\\n",
       " \\end{bmatrix}\n",
       "$$"
      ],
      "text/plain": [
       "<IPython.core.display.Latex object>"
      ]
     },
     "execution_count": 37,
     "metadata": {},
     "output_type": "execute_result"
    }
   ],
   "source": [
    "array_to_latex(result)"
   ]
  },
  {
   "cell_type": "markdown",
   "id": "677ab1ec",
   "metadata": {},
   "source": [
    "### Operazioni unitarie sui qubit - Hadamard\n",
    "\n",
    "L'Hadamard gate è una delle più importanti operazioni unitarie nel quantum computing. \n",
    "Possiamo implementare un gate Hadamard usando una classe dalla libreria dei circuiti Qiskit.\n",
    "\n",
    "Link di riferimento: https://qiskit.org/documentation/apidoc/circuit_library.html"
   ]
  },
  {
   "cell_type": "code",
   "execution_count": 38,
   "id": "74251a81",
   "metadata": {},
   "outputs": [
    {
     "data": {
      "text/latex": [
       "$$\n",
       "\n",
       "\\begin{bmatrix}\n",
       "\\frac{\\sqrt{2}}{2} & \\frac{\\sqrt{2}}{2}  \\\\\n",
       " \\frac{\\sqrt{2}}{2} & - \\frac{\\sqrt{2}}{2}  \\\\\n",
       " \\end{bmatrix}\n",
       "$$"
      ],
      "text/plain": [
       "<IPython.core.display.Latex object>"
      ]
     },
     "execution_count": 38,
     "metadata": {},
     "output_type": "execute_result"
    }
   ],
   "source": [
    "hadamard = HGate()\n",
    "array_to_latex(hadamard)"
   ]
  },
  {
   "cell_type": "markdown",
   "id": "08b41da3",
   "metadata": {},
   "source": [
    "Come abbiamo accennato prima, molte classi Qiskit possono essere convertite in operatori, così da far uso di funzioni specifiche, come ad esempio `is_unitary`:"
   ]
  },
  {
   "cell_type": "code",
   "execution_count": 39,
   "id": "ebc2f8df",
   "metadata": {},
   "outputs": [
    {
     "data": {
      "text/plain": [
       "True"
      ]
     },
     "execution_count": 39,
     "metadata": {},
     "output_type": "execute_result"
    }
   ],
   "source": [
    "hop = Operator(hadamard)\n",
    "hop.is_unitary()"
   ]
  },
  {
   "cell_type": "markdown",
   "id": "aa5207cc",
   "metadata": {},
   "source": [
    "## Verso i Quantum Circuits"
   ]
  },
  {
   "cell_type": "markdown",
   "id": "510e511e",
   "metadata": {},
   "source": [
    "Prima di introdurre alcuni primi esempi di circuiti quantistici, vediamo com'è possibile far evolvere uno stato tramite operatori unitari."
   ]
  },
  {
   "cell_type": "code",
   "execution_count": 40,
   "id": "a2520c44",
   "metadata": {},
   "outputs": [
    {
     "data": {
      "text/plain": [
       "[ 0.85355339+0.35355339j,-0.35355339+0.14644661j]"
      ]
     },
     "execution_count": 40,
     "metadata": {},
     "output_type": "execute_result"
    }
   ],
   "source": [
    "# definizione stato iniziale\n",
    "v = Statevector([1, 0])\n",
    "\n",
    "# operatore T\n",
    "T = Operator([[1, 0], [0, (1 + 1.0j) / np.sqrt(2)]])\n",
    "\n",
    "# evoluzione\n",
    "v = v.evolve(hadamard)\n",
    "v = v.evolve(T)\n",
    "v = v.evolve(hadamard)\n",
    "v = v.evolve(T)\n",
    "v = v.evolve(op_z)\n",
    "\n",
    "v.draw(\"text\")"
   ]
  },
  {
   "cell_type": "markdown",
   "id": "2a47428a",
   "metadata": {},
   "source": [
    "**Ex.8 Sfruttare il [Quantum Composer](https://quantum-computing.ibm.com/composer) per ottenere una formulazione tramite circuito.**"
   ]
  },
  {
   "cell_type": "code",
   "execution_count": 41,
   "id": "1733d2a4",
   "metadata": {},
   "outputs": [
    {
     "data": {
      "text/plain": [
       "<qiskit.circuit.instructionset.InstructionSet at 0x196301c7670>"
      ]
     },
     "execution_count": 41,
     "metadata": {},
     "output_type": "execute_result"
    }
   ],
   "source": [
    "# add your code here\n",
    "from qiskit import QuantumRegister, ClassicalRegister, QuantumCircuit\n",
    "from numpy import pi\n",
    "\n",
    "qreg_q = QuantumRegister(1, 'q')\n",
    "\n",
    "circuit = QuantumCircuit(qreg_q)\n",
    "\n",
    "circuit.h(qreg_q[0])\n",
    "circuit.t(qreg_q[0])\n",
    "circuit.h(qreg_q[0])\n",
    "circuit.t(qreg_q[0])\n",
    "circuit.z(qreg_q[0])"
   ]
  },
  {
   "cell_type": "code",
   "execution_count": 42,
   "id": "e90466f7",
   "metadata": {},
   "outputs": [
    {
     "data": {
      "image/png": "[encoded data removed]",
      "text/plain": [
       "<Figure size 519.897x117.056 with 1 Axes>"
      ]
     },
     "execution_count": 42,
     "metadata": {},
     "output_type": "execute_result"
    }
   ],
   "source": [
    "circuit.draw(\"mpl\")\n",
    "# se non vi funziona il draw\n",
    "# levate \"mpl\" ed eseguite il comando senza specifiche"
   ]
  },
  {
   "cell_type": "markdown",
   "id": "dec5eb53",
   "metadata": {},
   "source": [
    "## Misurare Stati Quantistici"
   ]
  },
  {
   "cell_type": "markdown",
   "id": "9d05a3cb",
   "metadata": {},
   "source": [
    "Come abbiamo visto a lezione, possiamo ricavare la probabilità di un risultato della misurazione di uno stato prendendo il quadrato dei valori assoluti delle entrate del vettore associato a tale stato.\n",
    "\n",
    "Ad esempio, se misuriamo lo stato $|+\\rangle$:\n",
    "$$\n",
    "    |+\\rangle = \\frac{1}{\\sqrt2}|0\\rangle + \\frac{1}{\\sqrt2}|1\\rangle\n",
    "$$\n",
    "le probabilità di ottenere $0$ o $1$ sono le seguenti:\n",
    "$$ \\mathbb{P}(0) = \\left\\vert\\frac{1}{\\sqrt2}\\right\\vert^2 = \\frac{1}{2} \\qquad \\mathbb{P}(1) =  \\left\\vert\\frac{1}{\\sqrt2}\\right\\vert^2 = \\frac{1}{2}$$"
   ]
  },
  {
   "cell_type": "markdown",
   "id": "09b17e63",
   "metadata": {},
   "source": [
    "Creiamo lo stato $|+\\rangle$ usando la classe `Statevector`:"
   ]
  },
  {
   "cell_type": "code",
   "execution_count": 43,
   "id": "819fdc56",
   "metadata": {},
   "outputs": [
    {
     "data": {
      "text/latex": [
       "$$\\frac{\\sqrt{2}}{2} |0\\rangle+\\frac{\\sqrt{2}}{2} |1\\rangle$$"
      ],
      "text/plain": [
       "<IPython.core.display.Latex object>"
      ]
     },
     "execution_count": 43,
     "metadata": {},
     "output_type": "execute_result"
    }
   ],
   "source": [
    "plus_state = Statevector.from_label(\"+\")\n",
    "plus_state.draw('latex')"
   ]
  },
  {
   "cell_type": "markdown",
   "id": "e9367460",
   "metadata": {},
   "source": [
    "Ora ricaviamo le probabilità della misurazione tramite la funzione dedicata:"
   ]
  },
  {
   "cell_type": "code",
   "execution_count": 44,
   "id": "4b954ae3",
   "metadata": {},
   "outputs": [
    {
     "data": {
      "text/plain": [
       "{'0': 0.4999999999999999, '1': 0.4999999999999999}"
      ]
     },
     "execution_count": 44,
     "metadata": {},
     "output_type": "execute_result"
    }
   ],
   "source": [
    "plus_state.probabilities_dict()"
   ]
  },
  {
   "cell_type": "markdown",
   "id": "62b9c13c",
   "metadata": {},
   "source": [
    "Il dizionario così ottenuto mostrerà tutti i possibili esiti della misurazione e le relative probabilità. L'effettiva misurazione dello stato porta al suo collasso nel valore (in bit classico) misurato:"
   ]
  },
  {
   "cell_type": "code",
   "execution_count": 45,
   "id": "546166ed",
   "metadata": {},
   "outputs": [
    {
     "data": {
      "text/plain": [
       "('1',\n",
       " Statevector([0.+0.j, 1.+0.j],\n",
       "             dims=(2,)))"
      ]
     },
     "execution_count": 45,
     "metadata": {},
     "output_type": "execute_result"
    }
   ],
   "source": [
    "# eseguite questa cella diverse volte \n",
    "# per vedere il collasso in un valore o nell'altro\n",
    "res = plus_state.measure()\n",
    "res"
   ]
  },
  {
   "cell_type": "markdown",
   "id": "f3abea6e",
   "metadata": {},
   "source": [
    "Nel prossimo esempio, useremo la classe `Statevector` per trovare il risultato della misurazione dello stato di Bell $|\\Phi^+\\rangle$:"
   ]
  },
  {
   "cell_type": "code",
   "execution_count": 46,
   "id": "f0c6e31d",
   "metadata": {},
   "outputs": [
    {
     "data": {
      "text/latex": [
       "$$\\frac{\\sqrt{2}}{2} |00\\rangle+\\frac{\\sqrt{2}}{2} |11\\rangle$$"
      ],
      "text/plain": [
       "<IPython.core.display.Latex object>"
      ]
     },
     "execution_count": 46,
     "metadata": {},
     "output_type": "execute_result"
    }
   ],
   "source": [
    "sv_bell = Statevector([np.sqrt(1/2), 0, 0, np.sqrt(1/2)])\n",
    "sv_bell.draw('latex')"
   ]
  },
  {
   "cell_type": "code",
   "execution_count": 47,
   "id": "60aca301",
   "metadata": {},
   "outputs": [
    {
     "data": {
      "text/plain": [
       "{'00': 0.5000000000000001, '11': 0.5000000000000001}"
      ]
     },
     "execution_count": 47,
     "metadata": {},
     "output_type": "execute_result"
    }
   ],
   "source": [
    "sv_bell.probabilities_dict()"
   ]
  },
  {
   "cell_type": "markdown",
   "id": "734489ba",
   "metadata": {},
   "source": [
    "**Ex 9 - Usando la classe `Statevector`, trovare le probabilità di misurazione per gli altri tre stati della base di Bell:**\n",
    "$$\n",
    "    |\\Psi^+\\rangle \\qquad |\\Psi^-\\rangle \\qquad |\\Phi^-\\rangle\n",
    "$$"
   ]
  },
  {
   "cell_type": "code",
   "execution_count": 48,
   "id": "119714dd",
   "metadata": {},
   "outputs": [],
   "source": [
    "# add your code\n",
    "sv_psi_plus = Statevector([0, np.sqrt(1/2), np.sqrt(1/2), 0])\n",
    "prob_psi_plus = sv_psi_plus.probabilities_dict()\n",
    "\n",
    "sv_psi_minus = Statevector([0, np.sqrt(1/2), -np.sqrt(1/2), 0])\n",
    "prob_psi_minus = sv_psi_minus.probabilities_dict()\n",
    "\n",
    "sv_phi_minus = Statevector([np.sqrt(1/2), 0, 0, -np.sqrt(1/2)])\n",
    "prob_phi_minus = sv_phi_minus.probabilities_dict()\n"
   ]
  },
  {
   "cell_type": "code",
   "execution_count": 49,
   "id": "0ab686d9",
   "metadata": {},
   "outputs": [
    {
     "data": {
      "text/plain": [
       "{'01': 0.5000000000000001, '10': 0.5000000000000001}"
      ]
     },
     "execution_count": 49,
     "metadata": {},
     "output_type": "execute_result"
    }
   ],
   "source": [
    "sv_psi_minus.probabilities_dict()"
   ]
  },
  {
   "cell_type": "code",
   "execution_count": 50,
   "id": "87764821",
   "metadata": {},
   "outputs": [
    {
     "data": {
      "text/plain": [
       "{'00': 0.5000000000000001, '11': 0.5000000000000001}"
      ]
     },
     "execution_count": 50,
     "metadata": {},
     "output_type": "execute_result"
    }
   ],
   "source": [
    "sv_phi_minus.probabilities_dict()"
   ]
  },
  {
   "cell_type": "markdown",
   "id": "caf12159",
   "metadata": {},
   "source": [
    "# Game: Quantum coin"
   ]
  },
  {
   "cell_type": "markdown",
   "id": "0dde44d0",
   "metadata": {},
   "source": [
    "Supponiamo di voler sfidare un quantum computer ad un gioco di sorte.\n",
    "\n",
    "Abbiamo a disposizione una **moneta quantistica**, su cui possiamo interagire sia noi che il computer, e definiamo le seguenti regole: si giocheranno tre turni, nell'ordine computer $\\rightarrow$ noi $\\rightarrow$ computer, e se alla fine la moneta è nello stato \"testa\" allora vince il computer, se è nello stato \"croce\" vinciamo noi.\n",
    "\n",
    "Identificheremo, matematicamente, con $|0\\rangle$ lo stato \"testa\" e con $|1\\rangle$ lo stato \"croce\".\n",
    "\n",
    "Il gioco si sviluppa così:\n",
    "1. La moneta è inizializzata a $|0\\rangle$, ossia in \"testa\";\n",
    "2. Il computer applica un gate Hadamard alla moneta;\n",
    "3. Noi possiamo decidere se ribaltare la moneta (ossia di applicare un bit-flip o gate X), o non fare nulla (applicando il gate identità);\n",
    "4. Il computer applica nuovamente un gate Hadamard alla moneta.\n",
    "\n",
    "Ora dunque ci chiediamo, quale strategia possiamo attuare affinché la nostra vittoria sia garantita?"
   ]
  },
  {
   "cell_type": "markdown",
   "id": "16c461bc",
   "metadata": {},
   "source": [
    "Costruiamo il circuito relativo:"
   ]
  },
  {
   "cell_type": "code",
   "execution_count": 51,
   "id": "faf8528c",
   "metadata": {},
   "outputs": [],
   "source": [
    "# Importing all the necessary library\n",
    "from qiskit import QuantumCircuit, Aer, QuantumRegister, ClassicalRegister\n",
    "from qiskit.tools.jupyter import *\n",
    "from qiskit.visualization import *"
   ]
  },
  {
   "cell_type": "code",
   "execution_count": 52,
   "id": "132881e5",
   "metadata": {},
   "outputs": [],
   "source": [
    "# Building the initial circuit\n",
    "def initial_circuit():\n",
    "\n",
    "    circuit = QuantumRegister(1, 'circuit')\n",
    "    measure = ClassicalRegister(1, 'result')\n",
    "\n",
    "    qc = QuantumCircuit(circuit, measure)\n",
    "    qc.draw('mpl')\n",
    "\n",
    "    return qc, circuit, measure"
   ]
  },
  {
   "cell_type": "code",
   "execution_count": 53,
   "id": "beb405ec",
   "metadata": {},
   "outputs": [
    {
     "data": {
      "image/png": "[encoded data removed]",
      "text/plain": [
       "<Figure size 507.603x200.667 with 1 Axes>"
      ]
     },
     "execution_count": 53,
     "metadata": {},
     "output_type": "execute_result"
    }
   ],
   "source": [
    "qc, circuit, measure = initial_circuit()\n",
    "\n",
    "# computer\n",
    "qc.h(circuit[0])\n",
    "\n",
    "# human\n",
    "# provate ad alternare I e X\n",
    "qc.x(circuit[0])\n",
    "#qc.id(circuit[0])\n",
    "\n",
    "# computer\n",
    "qc.h(circuit[0])\n",
    "\n",
    "qc.measure(circuit, measure)\n",
    "qc.draw('mpl')\n"
   ]
  },
  {
   "cell_type": "markdown",
   "id": "a211a8c8",
   "metadata": {},
   "source": [
    "Tramite simulatore, proviamo a vedere cosa succede su $1024$ tentativi:"
   ]
  },
  {
   "cell_type": "code",
   "execution_count": 54,
   "id": "1dafa245",
   "metadata": {},
   "outputs": [
    {
     "data": {
      "image/png": "[encoded data removed]",
      "text/plain": [
       "<Figure size 700x500 with 1 Axes>"
      ]
     },
     "execution_count": 54,
     "metadata": {},
     "output_type": "execute_result"
    }
   ],
   "source": [
    "backend = Aer.get_backend('aer_simulator') # invochiamo il simulatore\n",
    "\n",
    "res = backend.run(qc).result() # risultati della simulazione\n",
    "answer = res.get_counts() # trasformiamo i risultati in un dizionario\n",
    "\n",
    "plot_histogram(answer)"
   ]
  },
  {
   "cell_type": "code",
   "execution_count": 55,
   "id": "3dc650bc",
   "metadata": {},
   "outputs": [
    {
     "name": "stdout",
     "output_type": "stream",
     "text": [
      "Quantum Computer Wins\n"
     ]
    }
   ],
   "source": [
    "if len(answer) == 1 and list(answer.keys())[0] == '0':\n",
    "    print(\"Quantum Computer Wins\")\n",
    "if len(answer) == 1 and list(answer.keys())[0] == '1':\n",
    "    print(\"Classical Human Wins\")\n",
    "if len(answer) == 2:\n",
    "    print(\"Either Quantum Computer or Classical Human Wins\")"
   ]
  },
  {
   "cell_type": "markdown",
   "id": "d255d3db",
   "metadata": {},
   "source": [
    "Nonostante la nostra scelta di gate, il computer vince sempre!\n",
    "\n",
    "Ciò è dovuto al fatto che la prima mossa del computer è creare una sovrapposizione equiprobabile degli stati, rendendo vani gli effetti del bit-flip nel caso in cui decidiamo di applicarlo.\n",
    "\n",
    "L'unica strategia possibile per vincere è dunque quella di definire un gioco diverso allora!"
   ]
  },
  {
   "cell_type": "markdown",
   "id": "46f9b271",
   "metadata": {},
   "source": [
    "# Costruire un circuito: i primi passi"
   ]
  },
  {
   "cell_type": "markdown",
   "id": "df9497a1",
   "metadata": {},
   "source": [
    "Iniziamo questo secondo laboratorio introducendo i principali comandi per la costruzione di circuiti tramite Qiskit, così da poterci poi dedicare al loro utilizzo.\n",
    "\n",
    "Per definire un circuito, ci serve innanzitutto definire un oggetto `QuantumCircuit` a cui poi andremo ad aggiungere tutte le operazioni che vogliamo. Analizzando la [documentazione relativa](https://qiskit.org/documentation/stubs/qiskit.circuit.QuantumCircuit.html), leggiamo\n",
    "\n",
    "<center>\n",
    "\n",
    "```\n",
    "class qiskit.circuit.QuantumCircuit(*regs, name=None, global_phase=0, metadata=None)\n",
    "```\n",
    "\n",
    "</center>\n",
    "\n",
    "dove\n",
    "* `*regs` sono i registri che useremo e possono essere definiti come lista di Register o lista di interi;\n",
    "* `name` è il nome del circuito che, se non specificato altrimenti, sarà definito come una stringa generata automaticamente dal sistema;\n",
    "* `global_phase` è la fase globale, che sappiamo di poter ignorare;\n",
    "* `metadata` sono dei dati aggiuntivi che però non vengono utilizzati nella computazione del circuito.\n",
    "\n",
    "Come potete vedere, l'input di maggiore importanza è quello che riguarda i registri, dato che andrà a definire il numero di qubit, di qubit ancilla e di bit classici di cui avremo bisogno."
   ]
  },
  {
   "cell_type": "markdown",
   "id": "8f191b45",
   "metadata": {},
   "source": [
    "Costruiamo ora un circuito di esempio con $4$ qubit e $3$ bit classici:"
   ]
  },
  {
   "cell_type": "code",
   "execution_count": 56,
   "id": "49d6f160",
   "metadata": {},
   "outputs": [
    {
     "data": {
      "image/png": "[encoded data removed]",
      "text/plain": [
       "<Figure size 162.08x451.5 with 1 Axes>"
      ]
     },
     "execution_count": 56,
     "metadata": {},
     "output_type": "execute_result"
    }
   ],
   "source": [
    "# circuit with Register as input\n",
    "qc_reg = QuantumCircuit(QuantumRegister(4,\"q\"), ClassicalRegister(3,\"c\"))\n",
    "\n",
    "# draw the circuit\n",
    "qc_reg.draw('mpl')"
   ]
  },
  {
   "cell_type": "code",
   "execution_count": 57,
   "id": "3295210a",
   "metadata": {},
   "outputs": [
    {
     "data": {
      "image/png": "[encoded data removed]",
      "text/plain": [
       "<Figure size 162.08x451.5 with 1 Axes>"
      ]
     },
     "execution_count": 57,
     "metadata": {},
     "output_type": "execute_result"
    }
   ],
   "source": [
    "# circuit with Register as input\n",
    "qc_int = QuantumCircuit(4,3)\n",
    "\n",
    "# draw the circuit\n",
    "qc_int.draw('mpl')"
   ]
  },
  {
   "cell_type": "markdown",
   "id": "42881929",
   "metadata": {},
   "source": [
    "Come potete vedere le due definizioni sono completamente analoghe.\n",
    "\n",
    "Per parlare ora di come aggiungere le operazioni a cui vogliamo sottoporre i nostri qubit, riprendiamo lo stato di Bell $|\\Phi^+\\rangle$:\n",
    "$$\\frac{\\sqrt{2}}{2} |00\\rangle+\\frac{\\sqrt{2}}{2} |11\\rangle$$\n",
    "Nello scorso laboratorio avevamo ottenuto questo stato usando la classe `Statevector` e passandogli una lista di ampiezze, ma possiamo anche costruirlo tramite circuito:"
   ]
  },
  {
   "cell_type": "code",
   "execution_count": 58,
   "id": "699a6bd2",
   "metadata": {},
   "outputs": [
    {
     "data": {
      "image/png": "[encoded data removed]",
      "text/plain": [
       "<Figure size 287.294x284.278 with 1 Axes>"
      ]
     },
     "execution_count": 58,
     "metadata": {},
     "output_type": "execute_result"
    }
   ],
   "source": [
    "qc_bell = QuantumCircuit(2,2) # quantum circuit with 2 qubits and 2 classical bits\n",
    "\n",
    "qc_bell.h(0) # apply Hadamard on qubit q0\n",
    "qc_bell.cx(0, 1) # apply CNOT with control on q0 and target q1\n",
    "\n",
    "# draw\n",
    "qc_bell.draw('mpl')"
   ]
  },
  {
   "cell_type": "markdown",
   "id": "52001b87",
   "metadata": {},
   "source": [
    "Possiamo ottenere la rappresentazione matriciale di questo circuito convertendolo in operatore:"
   ]
  },
  {
   "cell_type": "code",
   "execution_count": 59,
   "id": "f5a801ef",
   "metadata": {},
   "outputs": [
    {
     "data": {
      "text/latex": [
       "$$\n",
       "\n",
       "\\begin{bmatrix}\n",
       "\\frac{\\sqrt{2}}{2} & \\frac{\\sqrt{2}}{2} & 0 & 0  \\\\\n",
       " 0 & 0 & \\frac{\\sqrt{2}}{2} & - \\frac{\\sqrt{2}}{2}  \\\\\n",
       " 0 & 0 & \\frac{\\sqrt{2}}{2} & \\frac{\\sqrt{2}}{2}  \\\\\n",
       " \\frac{\\sqrt{2}}{2} & - \\frac{\\sqrt{2}}{2} & 0 & 0  \\\\\n",
       " \\end{bmatrix}\n",
       "$$"
      ],
      "text/plain": [
       "<IPython.core.display.Latex object>"
      ]
     },
     "execution_count": 59,
     "metadata": {},
     "output_type": "execute_result"
    }
   ],
   "source": [
    "bell_op = Operator(qc_bell)\n",
    "array_to_latex(bell_op)"
   ]
  },
  {
   "cell_type": "markdown",
   "id": "46251e32",
   "metadata": {},
   "source": [
    "Per misurare i nostri qubit ci basta aggiungere l'operazione di misurazione al circuito, che porterà i qubit a collassare sui bit classici (ecco perché abbiamo definito il circuito con due registri classici)."
   ]
  },
  {
   "cell_type": "code",
   "execution_count": 60,
   "id": "1de0f15e",
   "metadata": {},
   "outputs": [
    {
     "data": {
      "image/png": "[encoded data removed]",
      "text/plain": [
       "<Figure size 454.517x284.278 with 1 Axes>"
      ]
     },
     "execution_count": 60,
     "metadata": {},
     "output_type": "execute_result"
    }
   ],
   "source": [
    "qc_bell.measure([0, 1], [0, 1])\n",
    "qc_bell.draw('mpl')"
   ]
  },
  {
   "cell_type": "markdown",
   "id": "740e8d4c",
   "metadata": {},
   "source": [
    "Dato che volevamo misurare tutti i nostri qubit, potevamo anche utilizzare la funzione `measure_all`: di default, tale funzione aggiunge dei registri classici sui salvare i risultati delle misurazioni, ma dato che noi abbiamo un circuito già dotato di registri classici appositi, possiamo porre `False` nell'input associato."
   ]
  },
  {
   "cell_type": "code",
   "execution_count": 61,
   "id": "83cd4637",
   "metadata": {},
   "outputs": [
    {
     "data": {
      "image/png": "[encoded data removed]",
      "text/plain": [
       "<Figure size 538.128x284.278 with 1 Axes>"
      ]
     },
     "execution_count": 61,
     "metadata": {},
     "output_type": "execute_result"
    }
   ],
   "source": [
    "qc_bell = QuantumCircuit(2,2) \n",
    "\n",
    "qc_bell.h(0)\n",
    "qc_bell.cx(0, 1)\n",
    "qc_bell.measure_all(add_bits = False)\n",
    "\n",
    "# draw\n",
    "qc_bell.draw('mpl')"
   ]
  },
  {
   "cell_type": "markdown",
   "id": "cca4c8e4",
   "metadata": {},
   "source": [
    "*Nota:* dato che stiamo aggiungendo pezzi al nostro circuito mano a mano, dobbiamo reinizializzarlo ogni volta, altrimenti avremmo doppie operazioni!\n",
    "\n",
    "Vedremo nel corso di questo lab che è possibile rimuovere alcune parti di circuito, e nello specifico le misurazioni finali, senza dover reinizializzare il circuito ogni volta."
   ]
  },
  {
   "cell_type": "markdown",
   "id": "6eb52189",
   "metadata": {},
   "source": [
    "**Ex 10 - lo stato GHZ è simile a uno stato di Bell, solo che coinvolge 3 qubit. Create un circuito che dia in output lo stato GHZ**"
   ]
  },
  {
   "cell_type": "code",
   "execution_count": 62,
   "id": "82b2e8a0",
   "metadata": {},
   "outputs": [
    {
     "data": {
      "image/png": "[encoded data removed]",
      "text/plain": [
       "<Figure size 371.107x284.278 with 1 Axes>"
      ]
     },
     "execution_count": 62,
     "metadata": {},
     "output_type": "execute_result"
    }
   ],
   "source": [
    "# add your code\n",
    "ghz = QuantumCircuit(3)\n",
    "\n",
    "ghz.h(0) # Hadamard\n",
    "ghz.cx(0,1) # CNOT con controllo in q0 e target q1\n",
    "ghz.cx(0,2) # CNOT con controllo in q0 e target q2\n",
    "\n",
    "ghz.draw(output='mpl')"
   ]
  },
  {
   "cell_type": "markdown",
   "id": "b2165990",
   "metadata": {},
   "source": [
    "Per una lista completa della sintassi dei gate nei circuiti vi rimandiamo alla [documentazione di Qiskit](https://qiskit.org/documentation/apidoc/circuit_library.html)."
   ]
  }
 ],
 "metadata": {
  "kernelspec": {
   "display_name": "Python 3 (ipykernel)",
   "language": "python",
   "name": "python3"
  },
  "language_info": {
   "codemirror_mode": {
    "name": "ipython",
    "version": 3
   },
   "file_extension": ".py",
   "mimetype": "text/x-python",
   "name": "python",
   "nbconvert_exporter": "python",
   "pygments_lexer": "ipython3",
   "version": "3.10.7"
  },
  "widgets": {
   "application/vnd.jupyter.widget-state+json": {
    "state": {},
    "version_major": 2,
    "version_minor": 0
   }
  }
 },
 "nbformat": 4,
 "nbformat_minor": 5
}
