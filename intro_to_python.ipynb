{
 "cells": [
  {
   "cell_type": "markdown",
   "metadata": {},
   "source": [
    "# Corso di Quantum Computing - Giorno 1: Introduzione a Python\n",
    "\n",
    "Questo notebook Jupyter serve per introdurre Python e gli elementi che useremo poi nel resto del corso.\n",
    "\n",
    "Corso per Epigenesys s.r.l. <br>\n",
    "Docenti: Sara Galatro e Lorenzo Gasparini <br>\n",
    "Supervisore: Prof. Marco Pedicini"
   ]
  },
  {
   "cell_type": "markdown",
   "metadata": {},
   "source": [
    "Python è un linguaggio di programmazione che non richiede di compilare prima di eseguire il codice e, in particolar modo, noi useremo pyhton all'interno di Jupyter Notebook: all'interno di un notebook, il codice è diviso in celle (ognuna delle quali deve essere eseguita separatamente) ed è possibile intervallare celle di testo con le informazioni sul codice al codice stesso.\n",
    "\n",
    "Per eseguire una cella basta premere sul simbolo \"play\" accanto alla cella che si vuole eseguire, oppure si può premere CTRL+Enter. Se si desidere eseguire una cella e passare direttamente alla successiva si può anche premere CTRL+Shift.\n",
    "\n",
    "La cosa importante da tenere a mente è che l'esecuzione delle celle deve essere fatta **in ordine**: una volta eseguita una cella, le variabili definite e/o modificate in essa sono salvate globalmente e pertanto, se ci serve di tornare a una versione precedente di qualche variabile, è necessario eseguire la cella dove si trova la versione desiderata della variabile.\n",
    "\n",
    "Riportiamo un esempio nelle prossime celle prima di iniziare a introdurre il linguaggio."
   ]
  },
  {
   "cell_type": "code",
   "execution_count": 1,
   "metadata": {},
   "outputs": [],
   "source": [
    "# CELLA 1\n",
    "# definiamo una variabile qualsiasi\n",
    "a = 5"
   ]
  },
  {
   "cell_type": "code",
   "execution_count": 2,
   "metadata": {},
   "outputs": [
    {
     "name": "stdout",
     "output_type": "stream",
     "text": [
      "5\n"
     ]
    }
   ],
   "source": [
    "# eseguire questa cella dopo aver eseguito la CELLA 1\n",
    "# e poi dopo aver eseguito la CELLA 2\n",
    "\n",
    "print(a)\n",
    "\n",
    "# vedrete che nel primo caso a = 5\n",
    "# nel secondo a = 15"
   ]
  },
  {
   "cell_type": "code",
   "execution_count": 3,
   "metadata": {},
   "outputs": [],
   "source": [
    "# CELLA 2\n",
    "# modifichiamo tale variabile con una somma\n",
    "a = a + 10"
   ]
  },
  {
   "cell_type": "markdown",
   "metadata": {},
   "source": [
    "Dunque quando eseguite un programma in un notebook, fate sempre attenzione all'ordine in cui eseguite le celle e, se qualcosa non vi torna, controllate che le variabili non siano state aggiornate in una qualche cella successiva."
   ]
  },
  {
   "cell_type": "markdown",
   "metadata": {},
   "source": [
    "## Datatypes e strutture dati"
   ]
  },
  {
   "cell_type": "markdown",
   "metadata": {},
   "source": [
    "Come visto nelle celle precedenti, le operazioni di base possono essere implementate applicandole direttamente alle variabili che definiamo. \n",
    "\n",
    "Riportiamo innanzitutto i principali datatypes:"
   ]
  },
  {
   "cell_type": "code",
   "execution_count": 4,
   "metadata": {},
   "outputs": [],
   "source": [
    "an_integer = 42 # intero\n",
    "a_float = 0.1 # float\n",
    "a_boolean = True # booleano, può essere True o False\n",
    "a_string = 'stringa di testo' # si può alternativamente definire usando le doppie virgolette \" \"\n",
    "none_of_the_above = None # variabile vuota, non ricade in nessun datatype"
   ]
  },
  {
   "cell_type": "markdown",
   "metadata": {},
   "source": [
    "Passando invece alle strutture dati, la più usata in Python è sicuramente la **lista**: questa struttura, definita tramite delle parentesi quadrate, può essere formata da un solo tipo di dati"
   ]
  },
  {
   "cell_type": "code",
   "execution_count": 5,
   "metadata": {},
   "outputs": [],
   "source": [
    "a_list = [0,1,2,3]"
   ]
  },
  {
   "cell_type": "markdown",
   "metadata": {},
   "source": [
    "oppure comprenderne diversi tipi, incluse altre liste"
   ]
  },
  {
   "cell_type": "code",
   "execution_count": 6,
   "metadata": {},
   "outputs": [],
   "source": [
    "a_list = [42, 0.5, True, [0,1], None, 'Lontra']\n",
    "# rispettivamente: intero, float, booleano, lista, vuoto, stringa"
   ]
  },
  {
   "cell_type": "markdown",
   "metadata": {},
   "source": [
    "Per accedere a un elemento della lista basta selezionare l'indice corrispondente e chiamare tale entrata:"
   ]
  },
  {
   "cell_type": "code",
   "execution_count": 7,
   "metadata": {},
   "outputs": [
    {
     "data": {
      "text/plain": [
       "42"
      ]
     },
     "execution_count": 7,
     "metadata": {},
     "output_type": "execute_result"
    }
   ],
   "source": [
    "a_list[0]"
   ]
  },
  {
   "cell_type": "markdown",
   "metadata": {},
   "source": [
    "Se non sappiamo esattamente quanto è lunga la nostra lista, possiamo usare la funzione *len*:"
   ]
  },
  {
   "cell_type": "code",
   "execution_count": 8,
   "metadata": {},
   "outputs": [
    {
     "data": {
      "text/plain": [
       "6"
      ]
     },
     "execution_count": 8,
     "metadata": {},
     "output_type": "execute_result"
    }
   ],
   "source": [
    "len(a_list)"
   ]
  },
  {
   "cell_type": "markdown",
   "metadata": {},
   "source": [
    "Ricordiamo che python conta a partire da **0**: dunque, se supponiamo che la lunghezza sia $n$, gli indici delle celle varieranno da zero a $n-1$."
   ]
  },
  {
   "cell_type": "markdown",
   "metadata": {},
   "source": [
    "Una struttura dati simile alla lista è la **tupla**, a cui è possibile accedere sempre chiamando l'indice dell'elemento desiderato:"
   ]
  },
  {
   "cell_type": "code",
   "execution_count": 9,
   "metadata": {},
   "outputs": [
    {
     "data": {
      "text/plain": [
       "42"
      ]
     },
     "execution_count": 9,
     "metadata": {},
     "output_type": "execute_result"
    }
   ],
   "source": [
    "a_tuple = (42, 0.5, True, [0,1], None, 'Lontra')\n",
    "a_tuple[0]"
   ]
  },
  {
   "cell_type": "markdown",
   "metadata": {},
   "source": [
    "La differenza principale tra tuple e liste è che le liste possono essere modificate, mentre le tuple no:"
   ]
  },
  {
   "cell_type": "code",
   "execution_count": 10,
   "metadata": {},
   "outputs": [
    {
     "name": "stdout",
     "output_type": "stream",
     "text": [
      "[42, 0.5, True, [0, 1], None, 'Pinguino']\n"
     ]
    }
   ],
   "source": [
    "a_list[5] = 'Pinguino'\n",
    "print(a_list)"
   ]
  },
  {
   "cell_type": "code",
   "execution_count": 11,
   "metadata": {},
   "outputs": [
    {
     "ename": "TypeError",
     "evalue": "'tuple' object does not support item assignment",
     "output_type": "error",
     "traceback": [
      "\u001b[1;31m---------------------------------------------------------------------------\u001b[0m",
      "\u001b[1;31mTypeError\u001b[0m                                 Traceback (most recent call last)",
      "\u001b[1;32mc:\\Users\\sgala\\CorsoQC\\Labs\\Day_1\\intro_to_python.ipynb Cell 23\u001b[0m line \u001b[0;36m1\n\u001b[1;32m----> <a href='vscode-notebook-cell:/c%3A/Users/sgala/CorsoQC/Labs/Day_1/intro_to_python.ipynb#X31sZmlsZQ%3D%3D?line=0'>1</a>\u001b[0m a_tuple[\u001b[39m5\u001b[39;49m] \u001b[39m=\u001b[39m \u001b[39m'\u001b[39m\u001b[39mPinguino\u001b[39m\u001b[39m'\u001b[39m\n",
      "\u001b[1;31mTypeError\u001b[0m: 'tuple' object does not support item assignment"
     ]
    }
   ],
   "source": [
    "a_tuple[5] = 'Pinguino'"
   ]
  },
  {
   "cell_type": "markdown",
   "metadata": {},
   "source": [
    "Inoltre, è possibile aggiungere elementi alla fine della lista, operazione non possibile per le tuple:"
   ]
  },
  {
   "cell_type": "code",
   "execution_count": 12,
   "metadata": {},
   "outputs": [
    {
     "name": "stdout",
     "output_type": "stream",
     "text": [
      "[42, 0.5, True, [0, 1], None, 'Pinguino', 3.14]\n"
     ]
    }
   ],
   "source": [
    "a_list.append(3.14)\n",
    "print(a_list)"
   ]
  },
  {
   "cell_type": "markdown",
   "metadata": {},
   "source": [
    "Un'altra struttura dati molto utile è il **dizionario**: usando questa struttura è infatti possibile salvare dei valori (*values*) con una specifica etichetta (*keys*), che serve così a identificarli. \n",
    "\n",
    "Anche in questo caso, sia le chiavi che i valori inseriti possono essere di vario tipo:"
   ]
  },
  {
   "cell_type": "code",
   "execution_count": 13,
   "metadata": {},
   "outputs": [
    {
     "data": {
      "text/plain": [
       "17"
      ]
     },
     "execution_count": 13,
     "metadata": {},
     "output_type": "execute_result"
    }
   ],
   "source": [
    "a_dict = {1: \"valore per la chiave 1\", \"key 2\": 17 , (0,1) : 0.3, False : \":)\" }\n",
    "a_dict[\"key 2\"]"
   ]
  },
  {
   "cell_type": "markdown",
   "metadata": {},
   "source": [
    "Come vedete dalla cella precedente, i dizionari sono definiti secondo la sintassi \"*key : value*\" e, per accedervi, basta invocare la chiave corrispondente al valore che si vuole conoscere.\n",
    "\n",
    "Per aggiungere una nuova voce al dizionario basta chiamare il dizionario con la nuova chiave e associargli il nuovo valore:"
   ]
  },
  {
   "cell_type": "code",
   "execution_count": 14,
   "metadata": {},
   "outputs": [
    {
     "data": {
      "text/plain": [
       "{1: 'valore per la chiave 1',\n",
       " 'key 2': 17,\n",
       " (0, 1): 0.3,\n",
       " False: ':)',\n",
       " 'new key': 'new_value'}"
      ]
     },
     "execution_count": 14,
     "metadata": {},
     "output_type": "execute_result"
    }
   ],
   "source": [
    "a_dict['new key'] = 'new_value'\n",
    "a_dict"
   ]
  },
  {
   "cell_type": "markdown",
   "metadata": {},
   "source": [
    "## Cicli e operazioni condizionali"
   ]
  },
  {
   "cell_type": "markdown",
   "metadata": {},
   "source": [
    "Se vogliamo ripetere un qualche blocco di operazioni per diversi elementi, possiamo utilizzare il ciclo **for**:"
   ]
  },
  {
   "cell_type": "code",
   "execution_count": 15,
   "metadata": {},
   "outputs": [
    {
     "name": "stdout",
     "output_type": "stream",
     "text": [
      "0\n",
      "1\n",
      "2\n",
      "3\n",
      "4\n"
     ]
    }
   ],
   "source": [
    "for j in range(5):\n",
    "    print(j)"
   ]
  },
  {
   "cell_type": "markdown",
   "metadata": {},
   "source": [
    "Si può anche definire un ciclo **for** su un oggetto *iterabile*, come ad esempio una lista"
   ]
  },
  {
   "cell_type": "code",
   "execution_count": 16,
   "metadata": {},
   "outputs": [
    {
     "name": "stdout",
     "output_type": "stream",
     "text": [
      "42\n",
      "0.5\n",
      "True\n",
      "[0, 1]\n",
      "None\n",
      "Pinguino\n",
      "3.14\n"
     ]
    }
   ],
   "source": [
    "for element in a_list:\n",
    "    print(element)"
   ]
  },
  {
   "cell_type": "markdown",
   "metadata": {},
   "source": [
    "o un dizionario"
   ]
  },
  {
   "cell_type": "code",
   "execution_count": 17,
   "metadata": {},
   "outputs": [
    {
     "name": "stdout",
     "output_type": "stream",
     "text": [
      "key = 1\n",
      "value = valore per la chiave 1\n",
      "\n",
      "key = key 2\n",
      "value = 17\n",
      "\n",
      "key = (0, 1)\n",
      "value = 0.3\n",
      "\n",
      "key = False\n",
      "value = :)\n",
      "\n",
      "key = new key\n",
      "value = new_value\n",
      "\n"
     ]
    }
   ],
   "source": [
    "for key in a_dict:\n",
    "    value = a_dict[key]\n",
    "    print('key =',key)\n",
    "    print('value =',value)\n",
    "    print()"
   ]
  },
  {
   "cell_type": "markdown",
   "metadata": {},
   "source": [
    "É possibile anche definire un range di valori personalizzato: ad esempio, possiamo volere che ad ogni iterazione l'indice avanzi di due, che vada al contrario o che sia in un intervallo con estremi diversi da $0$ e $len - 1$: infatti, la sintassi di *range* è \n",
    "$$\n",
    "    range(start, end + 1, jump)\n",
    "$$\n",
    "dove $end + 1$ è necessario poiché il range si ferma al valore precedente rispetto a quello datogli in input."
   ]
  },
  {
   "cell_type": "code",
   "execution_count": 18,
   "metadata": {},
   "outputs": [
    {
     "name": "stdout",
     "output_type": "stream",
     "text": [
      "Con salto di due:\n",
      "0\n",
      "2\n",
      "4\n",
      "\n",
      "Al contrario:\n",
      "5\n",
      "4\n",
      "3\n",
      "2\n",
      "1\n",
      "0\n"
     ]
    }
   ],
   "source": [
    "# salto di due\n",
    "print(\"Con salto di due:\")\n",
    "for j in range(0,5,2):\n",
    "    print(j)\n",
    "\n",
    "print()\n",
    "\n",
    "# al contrario\n",
    "print(\"Al contrario:\")\n",
    "for j in range(5,-1,-1):\n",
    "    print(j)"
   ]
  },
  {
   "cell_type": "markdown",
   "metadata": {},
   "source": [
    "Se non abbiamo un numero prefissato o conosciuto di iterazioni ma solo una qualche condizione di arresto, possiamo usare il comando **while**: in questo modo, finché la condizione posta è verificata, il ciclo continuerà ad essere eseguito:"
   ]
  },
  {
   "cell_type": "code",
   "execution_count": 19,
   "metadata": {},
   "outputs": [
    {
     "name": "stdout",
     "output_type": "stream",
     "text": [
      "0\n",
      "1\n",
      "2\n",
      "3\n",
      "4\n"
     ]
    }
   ],
   "source": [
    "j = 0\n",
    "while j<5:\n",
    "    print(j)\n",
    "    j += 1"
   ]
  },
  {
   "cell_type": "markdown",
   "metadata": {},
   "source": [
    "Osserviamo che in questo caso è necessario assicurarsi che la variabile su cui è imposta la condizione sia inizializzata prima del **while** e che essa venga modificata a ogni iterazione, per evitare che il ciclo giri all'infinito."
   ]
  },
  {
   "cell_type": "markdown",
   "metadata": {},
   "source": [
    "Se invece vogliamo definire delle operazioni condizionate, possiamo usare i comandi **if**, **elif** (else if) e **else**"
   ]
  },
  {
   "cell_type": "code",
   "execution_count": 20,
   "metadata": {},
   "outputs": [
    {
     "name": "stdout",
     "output_type": "stream",
     "text": [
      "Abbiamo un pinguino!🐧\n"
     ]
    }
   ],
   "source": [
    "if 'Riccio' in a_list: # viene controllata tutta la lista per controllare se c'è l'elemento indicato\n",
    "    print('Abbiamo un riccio!🦔')\n",
    "elif a_list[5]=='Pinguino': # controlliamo solo se l'ultima cella ha il valore indicato\n",
    "    print('Abbiamo un pinguino!🐧')\n",
    "else:\n",
    "    print('Dobbiamo decisamente prendere qualche altro animale!')"
   ]
  },
  {
   "cell_type": "markdown",
   "metadata": {},
   "source": [
    "## Librerie\n",
    "\n",
    "Possiamo importare le librerie che ci servono semplicemente usando **import**, dopo esserci ovviamente accertati che siano installate sulla nostra macchina. Ad esempio, supponiamo di voler importare la libreria **Numpy**:"
   ]
  },
  {
   "cell_type": "code",
   "execution_count": 21,
   "metadata": {},
   "outputs": [],
   "source": [
    "import numpy as np"
   ]
  },
  {
   "cell_type": "markdown",
   "metadata": {},
   "source": [
    "Numpy, più in dettaglio, è una libreria open source dedicata principalmente alle operazioni matriciali e vettoriali, permettendo dunque di definire e interagire con queste strutture matematiche nel modo migliore possibile. Dato che dovremmo sepcificare la libreria da cui prendiamo i comandi nel prefisso, si usa importare Numpy come \"np\", così da avere un prefisso più breve.\n",
    "\n",
    "Oltre al calcolo matriciale, Numpy offre anche numerose funzioni matematiche e valori importanti:"
   ]
  },
  {
   "cell_type": "code",
   "execution_count": 22,
   "metadata": {},
   "outputs": [
    {
     "data": {
      "text/plain": [
       "1.0"
      ]
     },
     "execution_count": 22,
     "metadata": {},
     "output_type": "execute_result"
    }
   ],
   "source": [
    "np.sin(np.pi/2)"
   ]
  },
  {
   "cell_type": "markdown",
   "metadata": {},
   "source": [
    "Un altra libreria molto utile è **Random** che serve per generare elementi aleatori:"
   ]
  },
  {
   "cell_type": "code",
   "execution_count": 23,
   "metadata": {},
   "outputs": [],
   "source": [
    "import random as rd"
   ]
  },
  {
   "cell_type": "code",
   "execution_count": 24,
   "metadata": {},
   "outputs": [
    {
     "name": "stdout",
     "output_type": "stream",
     "text": [
      "* Risultato dal campione 1\n",
      "\n",
      "   Numero aleatorio tra 0 e 1: 0.16471449325655707\n",
      "\n",
      "   Scelta aleatoria dalla lista: 42\n",
      "\n",
      "\n",
      "* Risultato dal campione 2\n",
      "\n",
      "   Numero aleatorio tra 0 e 1: 0.10964022531575346\n",
      "\n",
      "   Scelta aleatoria dalla lista: [0, 1]\n",
      "\n",
      "\n",
      "* Risultato dal campione 3\n",
      "\n",
      "   Numero aleatorio tra 0 e 1: 0.01013085437546668\n",
      "\n",
      "   Scelta aleatoria dalla lista: Pinguino\n",
      "\n",
      "\n"
     ]
    }
   ],
   "source": [
    "for j in range(3):\n",
    "    print('* Risultato dal campione',j+1)\n",
    "    print('\\n   Numero aleatorio tra 0 e 1:', rd.random())\n",
    "    print(\"\\n   Scelta aleatoria dalla lista:\", rd.choice( a_list ))\n",
    "    print('\\n')"
   ]
  },
  {
   "cell_type": "markdown",
   "metadata": {},
   "source": [
    "Altre librerie importanti sono\n",
    "* **Pandas**, per gestire dataframe, fogli Excel e grandi quantità di dati;\n",
    "* **Matplotlib** per disegnare grafici;\n",
    "* **Networkz** per algoritmi sui grafi;\n",
    "* **Qiskit** per il quantum computing."
   ]
  },
  {
   "cell_type": "markdown",
   "metadata": {},
   "source": [
    "## Funzioni\n",
    "\n",
    "Come in qualsiasi linguaggio, è importante saper definire delle **funzioni** personalizzate da poter usare nel nostro codice. Supponiamo dunque, ad esempio, di voler definire una funzione che esegua la somma tra due valori:"
   ]
  },
  {
   "cell_type": "code",
   "execution_count": 25,
   "metadata": {},
   "outputs": [],
   "source": [
    "def do_some_math (input_1, input_2):\n",
    "    answer = input_1 + input_2\n",
    "    return(answer)"
   ]
  },
  {
   "cell_type": "markdown",
   "metadata": {},
   "source": [
    "e chiamiamola nel nostro codice:"
   ]
  },
  {
   "cell_type": "code",
   "execution_count": 26,
   "metadata": {},
   "outputs": [
    {
     "data": {
      "text/plain": [
       "4978"
      ]
     },
     "execution_count": 26,
     "metadata": {},
     "output_type": "execute_result"
    }
   ],
   "source": [
    "x = do_some_math(125,4853)\n",
    "x"
   ]
  },
  {
   "cell_type": "markdown",
   "metadata": {},
   "source": [
    "Osserviamo che se passiamo un oggetto a una funzione e la funzione modifica in qualche modo tale oggetto, esso sarà modificato anche a livello globale:"
   ]
  },
  {
   "cell_type": "code",
   "execution_count": 27,
   "metadata": {},
   "outputs": [],
   "source": [
    "def add_cat(input_list):\n",
    "    if 'gatto' not in input_list:\n",
    "        input_list.append('Gatto')"
   ]
  },
  {
   "cell_type": "code",
   "execution_count": 28,
   "metadata": {},
   "outputs": [
    {
     "name": "stdout",
     "output_type": "stream",
     "text": [
      "Lista prima della funzione\n",
      "[42, 0.5, True, [0, 1], None, 'Pinguino', 3.14]\n",
      "\n",
      "Lista dopo la funzione\n",
      "[42, 0.5, True, [0, 1], None, 'Pinguino', 3.14, 'Gatto']\n"
     ]
    }
   ],
   "source": [
    "print('Lista prima della funzione')\n",
    "print(a_list)\n",
    "\n",
    "add_cat(a_list) # funzione senza output\n",
    "\n",
    "print('\\nLista dopo la funzione')\n",
    "print(a_list)"
   ]
  },
  {
   "cell_type": "markdown",
   "metadata": {},
   "source": [
    "## Esercizio\n",
    "\n",
    "Definire una funzione che, preso in input un numero in binario, restituisce il suo intero corrispettivo."
   ]
  },
  {
   "cell_type": "markdown",
   "metadata": {},
   "source": [
    "Ricordiamo che la scrittura binaria è una sequenza di $0$ e $1$ che indica se la potenza di $2$ relativa a quella posizione sia da sommare o da ignorare, ossia\n",
    "$$\n",
    "    101 = 1 \\cdot 2^2 + 0 \\cdot 2^1 + 1 \\cdot 2^0 = 5\n",
    "$$\n",
    "É importante osservare che le potenze sono ordinate in senso decrescente nel verso di lettura."
   ]
  },
  {
   "cell_type": "code",
   "execution_count": 32,
   "metadata": {},
   "outputs": [],
   "source": [
    "# add your code\n",
    "def to_integer(binary):\n",
    "    \n",
    "    num = 0\n",
    "    ph_len = len(binary)\n",
    "\n",
    "    for i in range(ph_len):\n",
    "        num = num + binary[i]*(2**(ph_len - i - 1))\n",
    "    \n",
    "    return(num)"
   ]
  },
  {
   "cell_type": "code",
   "execution_count": 33,
   "metadata": {},
   "outputs": [
    {
     "data": {
      "text/plain": [
       "5"
      ]
     },
     "execution_count": 33,
     "metadata": {},
     "output_type": "execute_result"
    }
   ],
   "source": [
    "# add your code\n",
    "binary_number = [1,0,1] # salvate il vostro numero binario come una lista\n",
    "int_number = to_integer(binary_number)\n",
    "int_number"
   ]
  }
 ],
 "metadata": {
  "kernelspec": {
   "display_name": "Python 3",
   "language": "python",
   "name": "python3"
  },
  "language_info": {
   "codemirror_mode": {
    "name": "ipython",
    "version": 3
   },
   "file_extension": ".py",
   "mimetype": "text/x-python",
   "name": "python",
   "nbconvert_exporter": "python",
   "pygments_lexer": "ipython3",
   "version": "3.10.7"
  }
 },
 "nbformat": 4,
 "nbformat_minor": 4
}
